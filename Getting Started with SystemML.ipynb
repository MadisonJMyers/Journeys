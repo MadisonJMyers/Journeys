{
 "cells": [
  {
   "cell_type": "code",
   "execution_count": 2,
   "metadata": {},
   "outputs": [
    {
     "ename": "SyntaxError",
     "evalue": "invalid syntax (<ipython-input-2-3a3c0a896c3a>, line 15)",
     "output_type": "error",
     "traceback": [
      "\u001b[0;36m  File \u001b[0;32m\"<ipython-input-2-3a3c0a896c3a>\"\u001b[0;36m, line \u001b[0;32m15\u001b[0m\n\u001b[0;31m    curl -O http://snap.stanford.edu/data/amazon0601.txt.gz\u001b[0m\n\u001b[0m               ^\u001b[0m\n\u001b[0;31mSyntaxError\u001b[0m\u001b[0;31m:\u001b[0m invalid syntax\n"
     ]
    }
   ],
   "source": [
    "%load_ext autoreload\n",
    "%autoreload 2\n",
    "%matplotlib inline\n",
    "import pycurl\n",
    "import os\n",
    "\n",
    "import numpy as np  \n",
    "import matplotlib.pyplot as plt  \n",
    "plt.rcParams['figure.figsize'] = (10, 6)\n",
    "\n",
    "sc.addPyFile(\"https://raw.githubusercontent.com/apache/incubator-systemml/3d5f9b11741f6d6ecc6af7cbaa1069cde32be838/src/main/java/org/apache/sysml/api/python/SystemML.py\")\n",
    "\n",
    "#%%sh\n",
    "\n",
    "curl -O http://snap.stanford.edu/data/amazon0601.txt.gz  \n",
    "#os.system (\"wget http://snap.stanford.edu/data/amazon0601.txt.gz\")\n",
    "gunzip amazon0601.txt.gz  \n"
   ]
  },
  {
   "cell_type": "code",
   "execution_count": null,
   "metadata": {},
   "outputs": [],
   "source": [
    "import pyspark.sql.functions as F  \n",
    "dataPath = \"amazon0601.txt\"\n",
    "\n",
    "X_train = (sc.textFile(dataPath)  \n",
    "    .filter(lambda l: not l.startswith(\"#\"))\n",
    "    .map(lambda l: l.split(\"\\t\"))\n",
    "    .map(lambda prods: (int(prods[0]), int(prods[1]), 1.0))\n",
    "    .toDF((\"prod_i\", \"prod_j\", \"x_ij\"))\n",
    "    .filter(\"prod_i < 500 AND prod_j < 500\")\n",
    "    .cache())\n",
    "\n",
    "max_prod_i = X_train.select(F.max(\"prod_i\")).first()[0]  \n",
    "max_prod_j = X_train.select(F.max(\"prod_j\")).first()[0]  \n",
    "numProducts = max(max_prod_i, max_prod_j) + 1  \n",
    "print(\"Total number of products: {}\".format(numProducts)) "
   ]
  },
  {
   "cell_type": "code",
   "execution_count": 1,
   "metadata": {},
   "outputs": [
    {
     "ename": "ModuleNotFoundError",
     "evalue": "No module named 'SystemML'",
     "output_type": "error",
     "traceback": [
      "\u001b[0;31m---------------------------------------------------------------------------\u001b[0m",
      "\u001b[0;31mModuleNotFoundError\u001b[0m                       Traceback (most recent call last)",
      "\u001b[0;32m<ipython-input-1-3f3fd42dc60a>\u001b[0m in \u001b[0;36m<module>\u001b[0;34m()\u001b[0m\n\u001b[0;32m----> 1\u001b[0;31m \u001b[0;32mfrom\u001b[0m \u001b[0mSystemML\u001b[0m \u001b[0;32mimport\u001b[0m \u001b[0mMLContext\u001b[0m\u001b[0;34m\u001b[0m\u001b[0m\n\u001b[0m\u001b[1;32m      2\u001b[0m \u001b[0mml\u001b[0m \u001b[0;34m=\u001b[0m \u001b[0mMLContext\u001b[0m\u001b[0;34m(\u001b[0m\u001b[0msc\u001b[0m\u001b[0;34m)\u001b[0m\u001b[0;34m\u001b[0m\u001b[0m\n",
      "\u001b[0;31mModuleNotFoundError\u001b[0m: No module named 'SystemML'"
     ]
    }
   ],
   "source": [
    "from SystemML import MLContext  \n",
    "ml = MLContext(sc) "
   ]
  },
  {
   "cell_type": "code",
   "execution_count": null,
   "metadata": {},
   "outputs": [],
   "source": [
    "pnmf = \"\"\"  \n",
    "X = read($X)  \n",
    "X = X+1  \n",
    "V = table(X[,1], X[,2])  \n",
    "size = ifdef($size, -1)  \n",
    "if(size > -1) {  \n",
    "    V = V[1:size,1:size]\n",
    "}\n",
    "max_iteration = as.integer($maxiter)  \n",
    "rank = as.integer($rank)\n",
    "\n",
    "n = nrow(V)  \n",
    "m = ncol(V)  \n",
    "range = 0.01  \n",
    "W = Rand(rows=n, cols=rank, min=0, max=range, pdf=\"uniform\")  \n",
    "H = Rand(rows=rank, cols=m, min=0, max=range, pdf=\"uniform\")  \n",
    "losses = matrix(0, rows=max_iteration, cols=1) "
   ]
  },
  {
   "cell_type": "code",
   "execution_count": null,
   "metadata": {},
   "outputs": [],
   "source": [
    "i=1  \n",
    "while(i <= max_iteration) {\n",
    "\n",
    "  H = (H * (t(W) %*% (V/(W%*%H))))/t(colSums(W)) \n",
    "  W = (W * ((V/(W%*%H)) %*% t(H)))/t(rowSums(H))\n",
    "\n",
    "\n",
    "  losses[i,] = -1 * (sum(V*log(W%*%H)) - as.scalar(colSums(W)%*%rowSums(H)))\n",
    "  i = i + 1;\n",
    "}\n",
    "\n",
    "write(losses, $lossout)  \n",
    "write(W, $Wout)  \n",
    "write(H, $Hout)  \n",
    "\"\"\""
   ]
  },
  {
   "cell_type": "code",
   "execution_count": null,
   "metadata": {},
   "outputs": [],
   "source": [
    "ml.reset()  \n",
    "outputs = ml.executeScript(pnmf, {\"X\": X_train, \"maxiter\": 100, \"rank\": 10}, [\"W\", \"H\", \"losses\"]) "
   ]
  },
  {
   "cell_type": "code",
   "execution_count": null,
   "metadata": {},
   "outputs": [],
   "source": [
    "losses = outputs.getDF(sqlContext, \"losses\")  \n",
    "xy = losses.sort(losses.ID).map(lambda r: (r[0], r[1])).collect()  \n",
    "x, y = zip(*xy)  \n",
    "plt.plot(x, y)  \n",
    "plt.xlabel('Iteration')  \n",
    "plt.ylabel('Loss')  \n",
    "plt.title('PNMF Training Loss')"
   ]
  }
 ],
 "metadata": {
  "kernelspec": {
   "display_name": "Python 3",
   "language": "python",
   "name": "python3"
  }
 },
 "nbformat": 4,
 "nbformat_minor": 2
}
